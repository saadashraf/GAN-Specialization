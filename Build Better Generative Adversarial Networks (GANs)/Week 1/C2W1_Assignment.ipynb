{
 "cells": [
  {
   "cell_type": "markdown",
   "metadata": {
    "colab_type": "text",
    "id": "1czVdIlqnImH"
   },
   "source": [
    "# Evaluating GANs"
   ]
  },
  {
   "cell_type": "markdown",
   "metadata": {
    "colab_type": "text",
    "id": "1KD3ZgLs80vY"
   },
   "source": [
    "### Goals\n",
    "In this notebook, you're going to gain a better understanding of some of the challenges that come with evaluating GANs and a response you can take to alleviate some of them called Fréchet Inception Distance (FID).\n",
    "\n",
    "### Learning Objectives\n",
    "1.   Understand the challenges associated with evaluating GANs.\n",
    "2.   Write code to evaluate the Fréchet Inception Distance.\n",
    " \n"
   ]
  },
  {
   "cell_type": "markdown",
   "metadata": {
    "colab_type": "text",
    "id": "YcjvPOSMSCzL"
   },
   "source": [
    "## Challenges With Evaluating GANs\n",
    "\n",
    "#### Loss is Uninformative of Performance\n",
    "One aspect that makes evaluating GANs challenging is that the loss tells us little about their performance. Unlike with classifiers, where a low loss on a test set indicates superior performance, a low loss for the generator or discriminator suggests that learning has stopped. \n",
    "\n",
    "\n",
    "#### No Clear Non-human Metric\n",
    "If you define the goal of a GAN as \"generating images which look real to people\" then it's technically possible to measure this directly: [you can ask people to act as a discriminator](https://arxiv.org/abs/1904.01121). However, this takes significant time and money so ideally you can use a proxy for this. There is also no \"perfect\" discriminator that can differentiate reals from fakes - if there were, a lot of machine learning tasks would be solved ;)\n",
    "\n",
    "In this notebook, you will implement Fréchet Inception Distance, one method which aims to solve these issues. "
   ]
  },
  {
   "cell_type": "markdown",
   "metadata": {
    "colab_type": "text",
    "id": "wU8DDM6l9rZb"
   },
   "source": [
    "## Getting Started\n",
    "For this notebook, you will again be using [CelebA](http://mmlab.ie.cuhk.edu.hk/projects/CelebA.html). You will start by loading a pre-trained generator which has been trained on CelebA."
   ]
  },
  {
   "cell_type": "markdown",
   "metadata": {
    "colab_type": "text",
    "id": "gsTReUckdFQh"
   },
   "source": [
    "Here, you will import some useful libraries and packages. You will also be provided with the generator and noise code from earlier assignments."
   ]
  },
  {
   "cell_type": "code",
   "execution_count": 1,
   "metadata": {
    "colab": {},
    "colab_type": "code",
    "id": "JfkorNJrnmNO"
   },
   "outputs": [
    {
     "name": "stdout",
     "output_type": "stream",
     "text": [
      "Requirement already satisfied: torchsummary in /usr/local/lib/python3.6/dist-packages (1.5.1)\n",
      "\u001b[33mWARNING: You are using pip version 20.1.1; however, version 21.0.1 is available.\n",
      "You should consider upgrading via the '/usr/bin/python3 -m pip install --upgrade pip' command.\u001b[0m\n"
     ]
    }
   ],
   "source": [
    "#!pip install torchsummary\n",
    "import torch\n",
    "import numpy as np\n",
    "from torch import nn\n",
    "from tqdm.auto import tqdm\n",
    "from torchvision import transforms\n",
    "from torchvision.datasets import CelebA\n",
    "from torchvision.utils import make_grid\n",
    "from torch.utils.data import DataLoader\n",
    "#from torchsummary import summary\n",
    "import matplotlib.pyplot as plt\n",
    "torch.manual_seed(0) # Set for our testing purposes, please do not change!\n",
    "\n",
    "class Generator(nn.Module):\n",
    "    '''\n",
    "    Generator Class\n",
    "    Values:\n",
    "        z_dim: the dimension of the noise vector, a scalar\n",
    "        im_chan: the number of channels in the images, fitted for the dataset used, a scalar\n",
    "              (CelebA is rgb, so 3 is your default)\n",
    "        hidden_dim: the inner dimension, a scalar\n",
    "    '''\n",
    "    def __init__(self, z_dim=10, im_chan=3, hidden_dim=64):\n",
    "        super(Generator, self).__init__()\n",
    "        self.z_dim = z_dim\n",
    "        # Build the neural network\n",
    "        self.gen = nn.Sequential(\n",
    "            self.make_gen_block(z_dim, hidden_dim * 8),\n",
    "            self.make_gen_block(hidden_dim * 8, hidden_dim * 4),\n",
    "            self.make_gen_block(hidden_dim * 4, hidden_dim * 2),\n",
    "            self.make_gen_block(hidden_dim * 2, hidden_dim),\n",
    "            self.make_gen_block(hidden_dim, im_chan, kernel_size=4, final_layer=True),\n",
    "        )\n",
    "\n",
    "    def make_gen_block(self, input_channels, output_channels, kernel_size=3, stride=2, final_layer=False):\n",
    "        '''\n",
    "        Function to return a sequence of operations corresponding to a generator block of DCGAN;\n",
    "        a transposed convolution, a batchnorm (except in the final layer), and an activation.\n",
    "        Parameters:\n",
    "            input_channels: how many channels the input feature representation has\n",
    "            output_channels: how many channels the output feature representation should have\n",
    "            kernel_size: the size of each convolutional filter, equivalent to (kernel_size, kernel_size)\n",
    "            stride: the stride of the convolution\n",
    "            final_layer: a boolean, true if it is the final layer and false otherwise \n",
    "                      (affects activation and batchnorm)\n",
    "        '''\n",
    "        if not final_layer:\n",
    "            return nn.Sequential(\n",
    "                nn.ConvTranspose2d(input_channels, output_channels, kernel_size, stride),\n",
    "                nn.BatchNorm2d(output_channels),\n",
    "                nn.ReLU(inplace=True),\n",
    "            )\n",
    "        else:\n",
    "            return nn.Sequential(\n",
    "                nn.ConvTranspose2d(input_channels, output_channels, kernel_size, stride),\n",
    "                nn.Tanh(),\n",
    "            )\n",
    "\n",
    "    def forward(self, noise):\n",
    "        '''\n",
    "        Function for completing a forward pass of the generator: Given a noise tensor, \n",
    "        returns generated images.\n",
    "        Parameters:\n",
    "            noise: a noise tensor with dimensions (n_samples, z_dim)\n",
    "        '''\n",
    "        x = noise.view(len(noise), self.z_dim, 1, 1)\n",
    "        return self.gen(x)\n",
    "\n",
    "def get_noise(n_samples, z_dim, device='cpu'):\n",
    "    '''\n",
    "    Function for creating noise vectors: Given the dimensions (n_samples, z_dim)\n",
    "    creates a tensor of that shape filled with random numbers from the normal distribution.\n",
    "    Parameters:\n",
    "        n_samples: the number of samples to generate, a scalar\n",
    "        z_dim: the dimension of the noise vector, a scalar\n",
    "        device: the device type\n",
    "    '''\n",
    "    return torch.randn(n_samples, z_dim, device=device)"
   ]
  },
  {
   "cell_type": "markdown",
   "metadata": {
    "colab_type": "text",
    "id": "qRk_8azSq3tF"
   },
   "source": [
    "## Loading the Pre-trained Model\n",
    "\n",
    "Now, you can set the arguments for the model and load the dataset:\n",
    "  *   z_dim: the dimension of the noise vector\n",
    "  *   image_size: the image size of the input to Inception (more details in the following section)\n",
    "  *   device: the device type"
   ]
  },
  {
   "cell_type": "code",
   "execution_count": 2,
   "metadata": {
    "colab": {
     "base_uri": "https://localhost:8080/",
     "height": 426
    },
    "colab_type": "code",
    "executionInfo": {
     "elapsed": 5223,
     "status": "error",
     "timestamp": 1599108736989,
     "user": {
      "displayName": "Eric Zelikman",
      "photoUrl": "https://lh3.googleusercontent.com/a-/AOh14GjA3YFIDW6U361yE3hLUnt-lzGRhMwlG-B2_mQLtQ=s64",
      "userId": "16768126786232632622"
     },
     "user_tz": 240
    },
    "id": "UXptQZcwrBrq",
    "outputId": "b7ef6127-ba5d-4f7b-c437-c8d75d67a6b0"
   },
   "outputs": [],
   "source": [
    "z_dim = 64\n",
    "image_size = 299\n",
    "device = 'cuda'\n",
    "\n",
    "transform = transforms.Compose([\n",
    "    transforms.Resize(image_size),\n",
    "    transforms.CenterCrop(image_size),\n",
    "    transforms.ToTensor(),\n",
    "    transforms.Normalize((0.5, 0.5, 0.5), (0.5, 0.5, 0.5)),\n",
    "])\n",
    "\n",
    "in_coursera = True # Set this to false if you're running this outside Coursera\n",
    "if in_coursera:\n",
    "    import numpy as np\n",
    "    data = torch.Tensor(np.load('fid_images_tensor.npz', allow_pickle=True)['arr_0'])\n",
    "    dataset = torch.utils.data.TensorDataset(data, data)\n",
    "else:\n",
    "    dataset = CelebA(\".\", download=True, transform=transform)"
   ]
  },
  {
   "cell_type": "markdown",
   "metadata": {
    "colab_type": "text",
    "id": "VJvvJ7GDVcyi"
   },
   "source": [
    "Then, you can load and initialize the model with weights from a pre-trained model. This allows you to use the pre-trained model as if you trained it yourself."
   ]
  },
  {
   "cell_type": "code",
   "execution_count": 3,
   "metadata": {
    "colab": {},
    "colab_type": "code",
    "id": "m5-yxnpDVSzv"
   },
   "outputs": [],
   "source": [
    "gen = Generator(z_dim).to(device)\n",
    "gen.load_state_dict(torch.load(f\"pretrained_celeba.pth\", map_location=torch.device(device))[\"gen\"])\n",
    "gen = gen.eval()"
   ]
  },
  {
   "cell_type": "markdown",
   "metadata": {
    "colab_type": "text",
    "id": "Zvis3TCd8tmI"
   },
   "source": [
    "## Inception-v3 Network\n",
    "Inception-V3 is a neural network trained on [ImageNet](http://www.image-net.org/) to classify objects. You may recall from the lectures that ImageNet has over 1 million images to train on. As a result, Inception-V3 does a good job detecting features and classifying images. Here, you will load Inception-V3 as `inception_model`.\n",
    "\n",
    "<!--  \n",
    "In the past, people would use a pretrained Inception network to identify the classes of the objects generated by a GAN and measure how similar the distribution of classes generated was to the true image (using KL divergence). This is known as inception score. \n",
    "\n",
    "However, there are many problems with this metric. Barratt and Sharma's 2018 \"[A Note on the Inception Score](https://arxiv.org/pdf/1801.01973.pdf)\" highlights many issues with this approach. Among them, they highlight its instability, its exploitability, and the widespread use of Inception Score on models not trained on ImageNet.  -->\n",
    "\n",
    "\n"
   ]
  },
  {
   "cell_type": "code",
   "execution_count": 4,
   "metadata": {
    "colab": {},
    "colab_type": "code",
    "id": "1tPRtB993v68"
   },
   "outputs": [
    {
     "name": "stdout",
     "output_type": "stream",
     "text": [
      "Inception3(\n",
      "  (Conv2d_1a_3x3): BasicConv2d(\n",
      "    (conv): Conv2d(3, 32, kernel_size=(3, 3), stride=(2, 2), bias=False)\n",
      "    (bn): BatchNorm2d(32, eps=0.001, momentum=0.1, affine=True, track_running_stats=True)\n",
      "  )\n",
      "  (Conv2d_2a_3x3): BasicConv2d(\n",
      "    (conv): Conv2d(32, 32, kernel_size=(3, 3), stride=(1, 1), bias=False)\n",
      "    (bn): BatchNorm2d(32, eps=0.001, momentum=0.1, affine=True, track_running_stats=True)\n",
      "  )\n",
      "  (Conv2d_2b_3x3): BasicConv2d(\n",
      "    (conv): Conv2d(32, 64, kernel_size=(3, 3), stride=(1, 1), padding=(1, 1), bias=False)\n",
      "    (bn): BatchNorm2d(64, eps=0.001, momentum=0.1, affine=True, track_running_stats=True)\n",
      "  )\n",
      "  (Conv2d_3b_1x1): BasicConv2d(\n",
      "    (conv): Conv2d(64, 80, kernel_size=(1, 1), stride=(1, 1), bias=False)\n",
      "    (bn): BatchNorm2d(80, eps=0.001, momentum=0.1, affine=True, track_running_stats=True)\n",
      "  )\n",
      "  (Conv2d_4a_3x3): BasicConv2d(\n",
      "    (conv): Conv2d(80, 192, kernel_size=(3, 3), stride=(1, 1), bias=False)\n",
      "    (bn): BatchNorm2d(192, eps=0.001, momentum=0.1, affine=True, track_running_stats=True)\n",
      "  )\n",
      "  (Mixed_5b): InceptionA(\n",
      "    (branch1x1): BasicConv2d(\n",
      "      (conv): Conv2d(192, 64, kernel_size=(1, 1), stride=(1, 1), bias=False)\n",
      "      (bn): BatchNorm2d(64, eps=0.001, momentum=0.1, affine=True, track_running_stats=True)\n",
      "    )\n",
      "    (branch5x5_1): BasicConv2d(\n",
      "      (conv): Conv2d(192, 48, kernel_size=(1, 1), stride=(1, 1), bias=False)\n",
      "      (bn): BatchNorm2d(48, eps=0.001, momentum=0.1, affine=True, track_running_stats=True)\n",
      "    )\n",
      "    (branch5x5_2): BasicConv2d(\n",
      "      (conv): Conv2d(48, 64, kernel_size=(5, 5), stride=(1, 1), padding=(2, 2), bias=False)\n",
      "      (bn): BatchNorm2d(64, eps=0.001, momentum=0.1, affine=True, track_running_stats=True)\n",
      "    )\n",
      "    (branch3x3dbl_1): BasicConv2d(\n",
      "      (conv): Conv2d(192, 64, kernel_size=(1, 1), stride=(1, 1), bias=False)\n",
      "      (bn): BatchNorm2d(64, eps=0.001, momentum=0.1, affine=True, track_running_stats=True)\n",
      "    )\n",
      "    (branch3x3dbl_2): BasicConv2d(\n",
      "      (conv): Conv2d(64, 96, kernel_size=(3, 3), stride=(1, 1), padding=(1, 1), bias=False)\n",
      "      (bn): BatchNorm2d(96, eps=0.001, momentum=0.1, affine=True, track_running_stats=True)\n",
      "    )\n",
      "    (branch3x3dbl_3): BasicConv2d(\n",
      "      (conv): Conv2d(96, 96, kernel_size=(3, 3), stride=(1, 1), padding=(1, 1), bias=False)\n",
      "      (bn): BatchNorm2d(96, eps=0.001, momentum=0.1, affine=True, track_running_stats=True)\n",
      "    )\n",
      "    (branch_pool): BasicConv2d(\n",
      "      (conv): Conv2d(192, 32, kernel_size=(1, 1), stride=(1, 1), bias=False)\n",
      "      (bn): BatchNorm2d(32, eps=0.001, momentum=0.1, affine=True, track_running_stats=True)\n",
      "    )\n",
      "  )\n",
      "  (Mixed_5c): InceptionA(\n",
      "    (branch1x1): BasicConv2d(\n",
      "      (conv): Conv2d(256, 64, kernel_size=(1, 1), stride=(1, 1), bias=False)\n",
      "      (bn): BatchNorm2d(64, eps=0.001, momentum=0.1, affine=True, track_running_stats=True)\n",
      "    )\n",
      "    (branch5x5_1): BasicConv2d(\n",
      "      (conv): Conv2d(256, 48, kernel_size=(1, 1), stride=(1, 1), bias=False)\n",
      "      (bn): BatchNorm2d(48, eps=0.001, momentum=0.1, affine=True, track_running_stats=True)\n",
      "    )\n",
      "    (branch5x5_2): BasicConv2d(\n",
      "      (conv): Conv2d(48, 64, kernel_size=(5, 5), stride=(1, 1), padding=(2, 2), bias=False)\n",
      "      (bn): BatchNorm2d(64, eps=0.001, momentum=0.1, affine=True, track_running_stats=True)\n",
      "    )\n",
      "    (branch3x3dbl_1): BasicConv2d(\n",
      "      (conv): Conv2d(256, 64, kernel_size=(1, 1), stride=(1, 1), bias=False)\n",
      "      (bn): BatchNorm2d(64, eps=0.001, momentum=0.1, affine=True, track_running_stats=True)\n",
      "    )\n",
      "    (branch3x3dbl_2): BasicConv2d(\n",
      "      (conv): Conv2d(64, 96, kernel_size=(3, 3), stride=(1, 1), padding=(1, 1), bias=False)\n",
      "      (bn): BatchNorm2d(96, eps=0.001, momentum=0.1, affine=True, track_running_stats=True)\n",
      "    )\n",
      "    (branch3x3dbl_3): BasicConv2d(\n",
      "      (conv): Conv2d(96, 96, kernel_size=(3, 3), stride=(1, 1), padding=(1, 1), bias=False)\n",
      "      (bn): BatchNorm2d(96, eps=0.001, momentum=0.1, affine=True, track_running_stats=True)\n",
      "    )\n",
      "    (branch_pool): BasicConv2d(\n",
      "      (conv): Conv2d(256, 64, kernel_size=(1, 1), stride=(1, 1), bias=False)\n",
      "      (bn): BatchNorm2d(64, eps=0.001, momentum=0.1, affine=True, track_running_stats=True)\n",
      "    )\n",
      "  )\n",
      "  (Mixed_5d): InceptionA(\n",
      "    (branch1x1): BasicConv2d(\n",
      "      (conv): Conv2d(288, 64, kernel_size=(1, 1), stride=(1, 1), bias=False)\n",
      "      (bn): BatchNorm2d(64, eps=0.001, momentum=0.1, affine=True, track_running_stats=True)\n",
      "    )\n",
      "    (branch5x5_1): BasicConv2d(\n",
      "      (conv): Conv2d(288, 48, kernel_size=(1, 1), stride=(1, 1), bias=False)\n",
      "      (bn): BatchNorm2d(48, eps=0.001, momentum=0.1, affine=True, track_running_stats=True)\n",
      "    )\n",
      "    (branch5x5_2): BasicConv2d(\n",
      "      (conv): Conv2d(48, 64, kernel_size=(5, 5), stride=(1, 1), padding=(2, 2), bias=False)\n",
      "      (bn): BatchNorm2d(64, eps=0.001, momentum=0.1, affine=True, track_running_stats=True)\n",
      "    )\n",
      "    (branch3x3dbl_1): BasicConv2d(\n",
      "      (conv): Conv2d(288, 64, kernel_size=(1, 1), stride=(1, 1), bias=False)\n",
      "      (bn): BatchNorm2d(64, eps=0.001, momentum=0.1, affine=True, track_running_stats=True)\n",
      "    )\n",
      "    (branch3x3dbl_2): BasicConv2d(\n",
      "      (conv): Conv2d(64, 96, kernel_size=(3, 3), stride=(1, 1), padding=(1, 1), bias=False)\n",
      "      (bn): BatchNorm2d(96, eps=0.001, momentum=0.1, affine=True, track_running_stats=True)\n",
      "    )\n",
      "    (branch3x3dbl_3): BasicConv2d(\n",
      "      (conv): Conv2d(96, 96, kernel_size=(3, 3), stride=(1, 1), padding=(1, 1), bias=False)\n",
      "      (bn): BatchNorm2d(96, eps=0.001, momentum=0.1, affine=True, track_running_stats=True)\n",
      "    )\n",
      "    (branch_pool): BasicConv2d(\n",
      "      (conv): Conv2d(288, 64, kernel_size=(1, 1), stride=(1, 1), bias=False)\n",
      "      (bn): BatchNorm2d(64, eps=0.001, momentum=0.1, affine=True, track_running_stats=True)\n",
      "    )\n",
      "  )\n",
      "  (Mixed_6a): InceptionB(\n",
      "    (branch3x3): BasicConv2d(\n",
      "      (conv): Conv2d(288, 384, kernel_size=(3, 3), stride=(2, 2), bias=False)\n",
      "      (bn): BatchNorm2d(384, eps=0.001, momentum=0.1, affine=True, track_running_stats=True)\n",
      "    )\n",
      "    (branch3x3dbl_1): BasicConv2d(\n",
      "      (conv): Conv2d(288, 64, kernel_size=(1, 1), stride=(1, 1), bias=False)\n",
      "      (bn): BatchNorm2d(64, eps=0.001, momentum=0.1, affine=True, track_running_stats=True)\n",
      "    )\n",
      "    (branch3x3dbl_2): BasicConv2d(\n",
      "      (conv): Conv2d(64, 96, kernel_size=(3, 3), stride=(1, 1), padding=(1, 1), bias=False)\n",
      "      (bn): BatchNorm2d(96, eps=0.001, momentum=0.1, affine=True, track_running_stats=True)\n",
      "    )\n",
      "    (branch3x3dbl_3): BasicConv2d(\n",
      "      (conv): Conv2d(96, 96, kernel_size=(3, 3), stride=(2, 2), bias=False)\n",
      "      (bn): BatchNorm2d(96, eps=0.001, momentum=0.1, affine=True, track_running_stats=True)\n",
      "    )\n",
      "  )\n",
      "  (Mixed_6b): InceptionC(\n",
      "    (branch1x1): BasicConv2d(\n",
      "      (conv): Conv2d(768, 192, kernel_size=(1, 1), stride=(1, 1), bias=False)\n",
      "      (bn): BatchNorm2d(192, eps=0.001, momentum=0.1, affine=True, track_running_stats=True)\n",
      "    )\n",
      "    (branch7x7_1): BasicConv2d(\n",
      "      (conv): Conv2d(768, 128, kernel_size=(1, 1), stride=(1, 1), bias=False)\n",
      "      (bn): BatchNorm2d(128, eps=0.001, momentum=0.1, affine=True, track_running_stats=True)\n",
      "    )\n",
      "    (branch7x7_2): BasicConv2d(\n",
      "      (conv): Conv2d(128, 128, kernel_size=(1, 7), stride=(1, 1), padding=(0, 3), bias=False)\n",
      "      (bn): BatchNorm2d(128, eps=0.001, momentum=0.1, affine=True, track_running_stats=True)\n",
      "    )\n",
      "    (branch7x7_3): BasicConv2d(\n",
      "      (conv): Conv2d(128, 192, kernel_size=(7, 1), stride=(1, 1), padding=(3, 0), bias=False)\n",
      "      (bn): BatchNorm2d(192, eps=0.001, momentum=0.1, affine=True, track_running_stats=True)\n",
      "    )\n",
      "    (branch7x7dbl_1): BasicConv2d(\n",
      "      (conv): Conv2d(768, 128, kernel_size=(1, 1), stride=(1, 1), bias=False)\n",
      "      (bn): BatchNorm2d(128, eps=0.001, momentum=0.1, affine=True, track_running_stats=True)\n",
      "    )\n",
      "    (branch7x7dbl_2): BasicConv2d(\n",
      "      (conv): Conv2d(128, 128, kernel_size=(7, 1), stride=(1, 1), padding=(3, 0), bias=False)\n",
      "      (bn): BatchNorm2d(128, eps=0.001, momentum=0.1, affine=True, track_running_stats=True)\n",
      "    )\n",
      "    (branch7x7dbl_3): BasicConv2d(\n",
      "      (conv): Conv2d(128, 128, kernel_size=(1, 7), stride=(1, 1), padding=(0, 3), bias=False)\n",
      "      (bn): BatchNorm2d(128, eps=0.001, momentum=0.1, affine=True, track_running_stats=True)\n",
      "    )\n",
      "    (branch7x7dbl_4): BasicConv2d(\n",
      "      (conv): Conv2d(128, 128, kernel_size=(7, 1), stride=(1, 1), padding=(3, 0), bias=False)\n",
      "      (bn): BatchNorm2d(128, eps=0.001, momentum=0.1, affine=True, track_running_stats=True)\n",
      "    )\n",
      "    (branch7x7dbl_5): BasicConv2d(\n",
      "      (conv): Conv2d(128, 192, kernel_size=(1, 7), stride=(1, 1), padding=(0, 3), bias=False)\n",
      "      (bn): BatchNorm2d(192, eps=0.001, momentum=0.1, affine=True, track_running_stats=True)\n",
      "    )\n",
      "    (branch_pool): BasicConv2d(\n",
      "      (conv): Conv2d(768, 192, kernel_size=(1, 1), stride=(1, 1), bias=False)\n",
      "      (bn): BatchNorm2d(192, eps=0.001, momentum=0.1, affine=True, track_running_stats=True)\n",
      "    )\n",
      "  )\n",
      "  (Mixed_6c): InceptionC(\n",
      "    (branch1x1): BasicConv2d(\n",
      "      (conv): Conv2d(768, 192, kernel_size=(1, 1), stride=(1, 1), bias=False)\n",
      "      (bn): BatchNorm2d(192, eps=0.001, momentum=0.1, affine=True, track_running_stats=True)\n",
      "    )\n",
      "    (branch7x7_1): BasicConv2d(\n",
      "      (conv): Conv2d(768, 160, kernel_size=(1, 1), stride=(1, 1), bias=False)\n",
      "      (bn): BatchNorm2d(160, eps=0.001, momentum=0.1, affine=True, track_running_stats=True)\n",
      "    )\n",
      "    (branch7x7_2): BasicConv2d(\n",
      "      (conv): Conv2d(160, 160, kernel_size=(1, 7), stride=(1, 1), padding=(0, 3), bias=False)\n",
      "      (bn): BatchNorm2d(160, eps=0.001, momentum=0.1, affine=True, track_running_stats=True)\n",
      "    )\n",
      "    (branch7x7_3): BasicConv2d(\n",
      "      (conv): Conv2d(160, 192, kernel_size=(7, 1), stride=(1, 1), padding=(3, 0), bias=False)\n",
      "      (bn): BatchNorm2d(192, eps=0.001, momentum=0.1, affine=True, track_running_stats=True)\n",
      "    )\n",
      "    (branch7x7dbl_1): BasicConv2d(\n",
      "      (conv): Conv2d(768, 160, kernel_size=(1, 1), stride=(1, 1), bias=False)\n",
      "      (bn): BatchNorm2d(160, eps=0.001, momentum=0.1, affine=True, track_running_stats=True)\n",
      "    )\n",
      "    (branch7x7dbl_2): BasicConv2d(\n",
      "      (conv): Conv2d(160, 160, kernel_size=(7, 1), stride=(1, 1), padding=(3, 0), bias=False)\n",
      "      (bn): BatchNorm2d(160, eps=0.001, momentum=0.1, affine=True, track_running_stats=True)\n",
      "    )\n",
      "    (branch7x7dbl_3): BasicConv2d(\n",
      "      (conv): Conv2d(160, 160, kernel_size=(1, 7), stride=(1, 1), padding=(0, 3), bias=False)\n",
      "      (bn): BatchNorm2d(160, eps=0.001, momentum=0.1, affine=True, track_running_stats=True)\n",
      "    )\n",
      "    (branch7x7dbl_4): BasicConv2d(\n",
      "      (conv): Conv2d(160, 160, kernel_size=(7, 1), stride=(1, 1), padding=(3, 0), bias=False)\n",
      "      (bn): BatchNorm2d(160, eps=0.001, momentum=0.1, affine=True, track_running_stats=True)\n",
      "    )\n",
      "    (branch7x7dbl_5): BasicConv2d(\n",
      "      (conv): Conv2d(160, 192, kernel_size=(1, 7), stride=(1, 1), padding=(0, 3), bias=False)\n",
      "      (bn): BatchNorm2d(192, eps=0.001, momentum=0.1, affine=True, track_running_stats=True)\n",
      "    )\n",
      "    (branch_pool): BasicConv2d(\n",
      "      (conv): Conv2d(768, 192, kernel_size=(1, 1), stride=(1, 1), bias=False)\n",
      "      (bn): BatchNorm2d(192, eps=0.001, momentum=0.1, affine=True, track_running_stats=True)\n",
      "    )\n",
      "  )\n",
      "  (Mixed_6d): InceptionC(\n",
      "    (branch1x1): BasicConv2d(\n",
      "      (conv): Conv2d(768, 192, kernel_size=(1, 1), stride=(1, 1), bias=False)\n",
      "      (bn): BatchNorm2d(192, eps=0.001, momentum=0.1, affine=True, track_running_stats=True)\n",
      "    )\n",
      "    (branch7x7_1): BasicConv2d(\n",
      "      (conv): Conv2d(768, 160, kernel_size=(1, 1), stride=(1, 1), bias=False)\n",
      "      (bn): BatchNorm2d(160, eps=0.001, momentum=0.1, affine=True, track_running_stats=True)\n",
      "    )\n",
      "    (branch7x7_2): BasicConv2d(\n",
      "      (conv): Conv2d(160, 160, kernel_size=(1, 7), stride=(1, 1), padding=(0, 3), bias=False)\n",
      "      (bn): BatchNorm2d(160, eps=0.001, momentum=0.1, affine=True, track_running_stats=True)\n",
      "    )\n",
      "    (branch7x7_3): BasicConv2d(\n",
      "      (conv): Conv2d(160, 192, kernel_size=(7, 1), stride=(1, 1), padding=(3, 0), bias=False)\n",
      "      (bn): BatchNorm2d(192, eps=0.001, momentum=0.1, affine=True, track_running_stats=True)\n",
      "    )\n",
      "    (branch7x7dbl_1): BasicConv2d(\n",
      "      (conv): Conv2d(768, 160, kernel_size=(1, 1), stride=(1, 1), bias=False)\n",
      "      (bn): BatchNorm2d(160, eps=0.001, momentum=0.1, affine=True, track_running_stats=True)\n",
      "    )\n",
      "    (branch7x7dbl_2): BasicConv2d(\n",
      "      (conv): Conv2d(160, 160, kernel_size=(7, 1), stride=(1, 1), padding=(3, 0), bias=False)\n",
      "      (bn): BatchNorm2d(160, eps=0.001, momentum=0.1, affine=True, track_running_stats=True)\n",
      "    )\n",
      "    (branch7x7dbl_3): BasicConv2d(\n",
      "      (conv): Conv2d(160, 160, kernel_size=(1, 7), stride=(1, 1), padding=(0, 3), bias=False)\n",
      "      (bn): BatchNorm2d(160, eps=0.001, momentum=0.1, affine=True, track_running_stats=True)\n",
      "    )\n",
      "    (branch7x7dbl_4): BasicConv2d(\n",
      "      (conv): Conv2d(160, 160, kernel_size=(7, 1), stride=(1, 1), padding=(3, 0), bias=False)\n",
      "      (bn): BatchNorm2d(160, eps=0.001, momentum=0.1, affine=True, track_running_stats=True)\n",
      "    )\n",
      "    (branch7x7dbl_5): BasicConv2d(\n",
      "      (conv): Conv2d(160, 192, kernel_size=(1, 7), stride=(1, 1), padding=(0, 3), bias=False)\n",
      "      (bn): BatchNorm2d(192, eps=0.001, momentum=0.1, affine=True, track_running_stats=True)\n",
      "    )\n",
      "    (branch_pool): BasicConv2d(\n",
      "      (conv): Conv2d(768, 192, kernel_size=(1, 1), stride=(1, 1), bias=False)\n",
      "      (bn): BatchNorm2d(192, eps=0.001, momentum=0.1, affine=True, track_running_stats=True)\n",
      "    )\n",
      "  )\n",
      "  (Mixed_6e): InceptionC(\n",
      "    (branch1x1): BasicConv2d(\n",
      "      (conv): Conv2d(768, 192, kernel_size=(1, 1), stride=(1, 1), bias=False)\n",
      "      (bn): BatchNorm2d(192, eps=0.001, momentum=0.1, affine=True, track_running_stats=True)\n",
      "    )\n",
      "    (branch7x7_1): BasicConv2d(\n",
      "      (conv): Conv2d(768, 192, kernel_size=(1, 1), stride=(1, 1), bias=False)\n",
      "      (bn): BatchNorm2d(192, eps=0.001, momentum=0.1, affine=True, track_running_stats=True)\n",
      "    )\n",
      "    (branch7x7_2): BasicConv2d(\n",
      "      (conv): Conv2d(192, 192, kernel_size=(1, 7), stride=(1, 1), padding=(0, 3), bias=False)\n",
      "      (bn): BatchNorm2d(192, eps=0.001, momentum=0.1, affine=True, track_running_stats=True)\n",
      "    )\n",
      "    (branch7x7_3): BasicConv2d(\n",
      "      (conv): Conv2d(192, 192, kernel_size=(7, 1), stride=(1, 1), padding=(3, 0), bias=False)\n",
      "      (bn): BatchNorm2d(192, eps=0.001, momentum=0.1, affine=True, track_running_stats=True)\n",
      "    )\n",
      "    (branch7x7dbl_1): BasicConv2d(\n",
      "      (conv): Conv2d(768, 192, kernel_size=(1, 1), stride=(1, 1), bias=False)\n",
      "      (bn): BatchNorm2d(192, eps=0.001, momentum=0.1, affine=True, track_running_stats=True)\n",
      "    )\n",
      "    (branch7x7dbl_2): BasicConv2d(\n",
      "      (conv): Conv2d(192, 192, kernel_size=(7, 1), stride=(1, 1), padding=(3, 0), bias=False)\n",
      "      (bn): BatchNorm2d(192, eps=0.001, momentum=0.1, affine=True, track_running_stats=True)\n",
      "    )\n",
      "    (branch7x7dbl_3): BasicConv2d(\n",
      "      (conv): Conv2d(192, 192, kernel_size=(1, 7), stride=(1, 1), padding=(0, 3), bias=False)\n",
      "      (bn): BatchNorm2d(192, eps=0.001, momentum=0.1, affine=True, track_running_stats=True)\n",
      "    )\n",
      "    (branch7x7dbl_4): BasicConv2d(\n",
      "      (conv): Conv2d(192, 192, kernel_size=(7, 1), stride=(1, 1), padding=(3, 0), bias=False)\n",
      "      (bn): BatchNorm2d(192, eps=0.001, momentum=0.1, affine=True, track_running_stats=True)\n",
      "    )\n",
      "    (branch7x7dbl_5): BasicConv2d(\n",
      "      (conv): Conv2d(192, 192, kernel_size=(1, 7), stride=(1, 1), padding=(0, 3), bias=False)\n",
      "      (bn): BatchNorm2d(192, eps=0.001, momentum=0.1, affine=True, track_running_stats=True)\n",
      "    )\n",
      "    (branch_pool): BasicConv2d(\n",
      "      (conv): Conv2d(768, 192, kernel_size=(1, 1), stride=(1, 1), bias=False)\n",
      "      (bn): BatchNorm2d(192, eps=0.001, momentum=0.1, affine=True, track_running_stats=True)\n",
      "    )\n",
      "  )\n",
      "  (AuxLogits): InceptionAux(\n",
      "    (conv0): BasicConv2d(\n",
      "      (conv): Conv2d(768, 128, kernel_size=(1, 1), stride=(1, 1), bias=False)\n",
      "      (bn): BatchNorm2d(128, eps=0.001, momentum=0.1, affine=True, track_running_stats=True)\n",
      "    )\n",
      "    (conv1): BasicConv2d(\n",
      "      (conv): Conv2d(128, 768, kernel_size=(5, 5), stride=(1, 1), bias=False)\n",
      "      (bn): BatchNorm2d(768, eps=0.001, momentum=0.1, affine=True, track_running_stats=True)\n",
      "    )\n",
      "    (fc): Linear(in_features=768, out_features=1000, bias=True)\n",
      "  )\n",
      "  (Mixed_7a): InceptionD(\n",
      "    (branch3x3_1): BasicConv2d(\n",
      "      (conv): Conv2d(768, 192, kernel_size=(1, 1), stride=(1, 1), bias=False)\n",
      "      (bn): BatchNorm2d(192, eps=0.001, momentum=0.1, affine=True, track_running_stats=True)\n",
      "    )\n",
      "    (branch3x3_2): BasicConv2d(\n",
      "      (conv): Conv2d(192, 320, kernel_size=(3, 3), stride=(2, 2), bias=False)\n",
      "      (bn): BatchNorm2d(320, eps=0.001, momentum=0.1, affine=True, track_running_stats=True)\n",
      "    )\n",
      "    (branch7x7x3_1): BasicConv2d(\n",
      "      (conv): Conv2d(768, 192, kernel_size=(1, 1), stride=(1, 1), bias=False)\n",
      "      (bn): BatchNorm2d(192, eps=0.001, momentum=0.1, affine=True, track_running_stats=True)\n",
      "    )\n",
      "    (branch7x7x3_2): BasicConv2d(\n",
      "      (conv): Conv2d(192, 192, kernel_size=(1, 7), stride=(1, 1), padding=(0, 3), bias=False)\n",
      "      (bn): BatchNorm2d(192, eps=0.001, momentum=0.1, affine=True, track_running_stats=True)\n",
      "    )\n",
      "    (branch7x7x3_3): BasicConv2d(\n",
      "      (conv): Conv2d(192, 192, kernel_size=(7, 1), stride=(1, 1), padding=(3, 0), bias=False)\n",
      "      (bn): BatchNorm2d(192, eps=0.001, momentum=0.1, affine=True, track_running_stats=True)\n",
      "    )\n",
      "    (branch7x7x3_4): BasicConv2d(\n",
      "      (conv): Conv2d(192, 192, kernel_size=(3, 3), stride=(2, 2), bias=False)\n",
      "      (bn): BatchNorm2d(192, eps=0.001, momentum=0.1, affine=True, track_running_stats=True)\n",
      "    )\n",
      "  )\n",
      "  (Mixed_7b): InceptionE(\n",
      "    (branch1x1): BasicConv2d(\n",
      "      (conv): Conv2d(1280, 320, kernel_size=(1, 1), stride=(1, 1), bias=False)\n",
      "      (bn): BatchNorm2d(320, eps=0.001, momentum=0.1, affine=True, track_running_stats=True)\n",
      "    )\n",
      "    (branch3x3_1): BasicConv2d(\n",
      "      (conv): Conv2d(1280, 384, kernel_size=(1, 1), stride=(1, 1), bias=False)\n",
      "      (bn): BatchNorm2d(384, eps=0.001, momentum=0.1, affine=True, track_running_stats=True)\n",
      "    )\n",
      "    (branch3x3_2a): BasicConv2d(\n",
      "      (conv): Conv2d(384, 384, kernel_size=(1, 3), stride=(1, 1), padding=(0, 1), bias=False)\n",
      "      (bn): BatchNorm2d(384, eps=0.001, momentum=0.1, affine=True, track_running_stats=True)\n",
      "    )\n",
      "    (branch3x3_2b): BasicConv2d(\n",
      "      (conv): Conv2d(384, 384, kernel_size=(3, 1), stride=(1, 1), padding=(1, 0), bias=False)\n",
      "      (bn): BatchNorm2d(384, eps=0.001, momentum=0.1, affine=True, track_running_stats=True)\n",
      "    )\n",
      "    (branch3x3dbl_1): BasicConv2d(\n",
      "      (conv): Conv2d(1280, 448, kernel_size=(1, 1), stride=(1, 1), bias=False)\n",
      "      (bn): BatchNorm2d(448, eps=0.001, momentum=0.1, affine=True, track_running_stats=True)\n",
      "    )\n",
      "    (branch3x3dbl_2): BasicConv2d(\n",
      "      (conv): Conv2d(448, 384, kernel_size=(3, 3), stride=(1, 1), padding=(1, 1), bias=False)\n",
      "      (bn): BatchNorm2d(384, eps=0.001, momentum=0.1, affine=True, track_running_stats=True)\n",
      "    )\n",
      "    (branch3x3dbl_3a): BasicConv2d(\n",
      "      (conv): Conv2d(384, 384, kernel_size=(1, 3), stride=(1, 1), padding=(0, 1), bias=False)\n",
      "      (bn): BatchNorm2d(384, eps=0.001, momentum=0.1, affine=True, track_running_stats=True)\n",
      "    )\n",
      "    (branch3x3dbl_3b): BasicConv2d(\n",
      "      (conv): Conv2d(384, 384, kernel_size=(3, 1), stride=(1, 1), padding=(1, 0), bias=False)\n",
      "      (bn): BatchNorm2d(384, eps=0.001, momentum=0.1, affine=True, track_running_stats=True)\n",
      "    )\n",
      "    (branch_pool): BasicConv2d(\n",
      "      (conv): Conv2d(1280, 192, kernel_size=(1, 1), stride=(1, 1), bias=False)\n",
      "      (bn): BatchNorm2d(192, eps=0.001, momentum=0.1, affine=True, track_running_stats=True)\n",
      "    )\n",
      "  )\n",
      "  (Mixed_7c): InceptionE(\n",
      "    (branch1x1): BasicConv2d(\n",
      "      (conv): Conv2d(2048, 320, kernel_size=(1, 1), stride=(1, 1), bias=False)\n",
      "      (bn): BatchNorm2d(320, eps=0.001, momentum=0.1, affine=True, track_running_stats=True)\n",
      "    )\n",
      "    (branch3x3_1): BasicConv2d(\n",
      "      (conv): Conv2d(2048, 384, kernel_size=(1, 1), stride=(1, 1), bias=False)\n",
      "      (bn): BatchNorm2d(384, eps=0.001, momentum=0.1, affine=True, track_running_stats=True)\n",
      "    )\n",
      "    (branch3x3_2a): BasicConv2d(\n",
      "      (conv): Conv2d(384, 384, kernel_size=(1, 3), stride=(1, 1), padding=(0, 1), bias=False)\n",
      "      (bn): BatchNorm2d(384, eps=0.001, momentum=0.1, affine=True, track_running_stats=True)\n",
      "    )\n",
      "    (branch3x3_2b): BasicConv2d(\n",
      "      (conv): Conv2d(384, 384, kernel_size=(3, 1), stride=(1, 1), padding=(1, 0), bias=False)\n",
      "      (bn): BatchNorm2d(384, eps=0.001, momentum=0.1, affine=True, track_running_stats=True)\n",
      "    )\n",
      "    (branch3x3dbl_1): BasicConv2d(\n",
      "      (conv): Conv2d(2048, 448, kernel_size=(1, 1), stride=(1, 1), bias=False)\n",
      "      (bn): BatchNorm2d(448, eps=0.001, momentum=0.1, affine=True, track_running_stats=True)\n",
      "    )\n",
      "    (branch3x3dbl_2): BasicConv2d(\n",
      "      (conv): Conv2d(448, 384, kernel_size=(3, 3), stride=(1, 1), padding=(1, 1), bias=False)\n",
      "      (bn): BatchNorm2d(384, eps=0.001, momentum=0.1, affine=True, track_running_stats=True)\n",
      "    )\n",
      "    (branch3x3dbl_3a): BasicConv2d(\n",
      "      (conv): Conv2d(384, 384, kernel_size=(1, 3), stride=(1, 1), padding=(0, 1), bias=False)\n",
      "      (bn): BatchNorm2d(384, eps=0.001, momentum=0.1, affine=True, track_running_stats=True)\n",
      "    )\n",
      "    (branch3x3dbl_3b): BasicConv2d(\n",
      "      (conv): Conv2d(384, 384, kernel_size=(3, 1), stride=(1, 1), padding=(1, 0), bias=False)\n",
      "      (bn): BatchNorm2d(384, eps=0.001, momentum=0.1, affine=True, track_running_stats=True)\n",
      "    )\n",
      "    (branch_pool): BasicConv2d(\n",
      "      (conv): Conv2d(2048, 192, kernel_size=(1, 1), stride=(1, 1), bias=False)\n",
      "      (bn): BatchNorm2d(192, eps=0.001, momentum=0.1, affine=True, track_running_stats=True)\n",
      "    )\n",
      "  )\n",
      "  (fc): Linear(in_features=2048, out_features=1000, bias=True)\n",
      ")\n",
      "Linear(in_features=2048, out_features=1000, bias=True)\n",
      "----------------------------------------------------------------\n",
      "        Layer (type)               Output Shape         Param #\n",
      "================================================================\n",
      "            Conv2d-1         [-1, 32, 114, 114]             864\n",
      "       BatchNorm2d-2         [-1, 32, 114, 114]              64\n",
      "       BasicConv2d-3         [-1, 32, 114, 114]               0\n",
      "            Conv2d-4         [-1, 32, 112, 112]           9,216\n",
      "       BatchNorm2d-5         [-1, 32, 112, 112]              64\n",
      "       BasicConv2d-6         [-1, 32, 112, 112]               0\n",
      "            Conv2d-7         [-1, 64, 112, 112]          18,432\n",
      "       BatchNorm2d-8         [-1, 64, 112, 112]             128\n",
      "       BasicConv2d-9         [-1, 64, 112, 112]               0\n",
      "           Conv2d-10           [-1, 80, 55, 55]           5,120\n",
      "      BatchNorm2d-11           [-1, 80, 55, 55]             160\n",
      "      BasicConv2d-12           [-1, 80, 55, 55]               0\n",
      "           Conv2d-13          [-1, 192, 53, 53]         138,240\n",
      "      BatchNorm2d-14          [-1, 192, 53, 53]             384\n",
      "      BasicConv2d-15          [-1, 192, 53, 53]               0\n",
      "           Conv2d-16           [-1, 64, 26, 26]          12,288\n",
      "      BatchNorm2d-17           [-1, 64, 26, 26]             128\n",
      "      BasicConv2d-18           [-1, 64, 26, 26]               0\n",
      "           Conv2d-19           [-1, 48, 26, 26]           9,216\n",
      "      BatchNorm2d-20           [-1, 48, 26, 26]              96\n",
      "      BasicConv2d-21           [-1, 48, 26, 26]               0\n",
      "           Conv2d-22           [-1, 64, 26, 26]          76,800\n",
      "      BatchNorm2d-23           [-1, 64, 26, 26]             128\n",
      "      BasicConv2d-24           [-1, 64, 26, 26]               0\n",
      "           Conv2d-25           [-1, 64, 26, 26]          12,288\n",
      "      BatchNorm2d-26           [-1, 64, 26, 26]             128\n",
      "      BasicConv2d-27           [-1, 64, 26, 26]               0\n",
      "           Conv2d-28           [-1, 96, 26, 26]          55,296\n",
      "      BatchNorm2d-29           [-1, 96, 26, 26]             192\n",
      "      BasicConv2d-30           [-1, 96, 26, 26]               0\n",
      "           Conv2d-31           [-1, 96, 26, 26]          82,944\n",
      "      BatchNorm2d-32           [-1, 96, 26, 26]             192\n",
      "      BasicConv2d-33           [-1, 96, 26, 26]               0\n",
      "           Conv2d-34           [-1, 32, 26, 26]           6,144\n",
      "      BatchNorm2d-35           [-1, 32, 26, 26]              64\n",
      "      BasicConv2d-36           [-1, 32, 26, 26]               0\n",
      "       InceptionA-37          [-1, 256, 26, 26]               0\n",
      "           Conv2d-38           [-1, 64, 26, 26]          16,384\n",
      "      BatchNorm2d-39           [-1, 64, 26, 26]             128\n",
      "      BasicConv2d-40           [-1, 64, 26, 26]               0\n",
      "           Conv2d-41           [-1, 48, 26, 26]          12,288\n",
      "      BatchNorm2d-42           [-1, 48, 26, 26]              96\n",
      "      BasicConv2d-43           [-1, 48, 26, 26]               0\n",
      "           Conv2d-44           [-1, 64, 26, 26]          76,800\n",
      "      BatchNorm2d-45           [-1, 64, 26, 26]             128\n",
      "      BasicConv2d-46           [-1, 64, 26, 26]               0\n",
      "           Conv2d-47           [-1, 64, 26, 26]          16,384\n",
      "      BatchNorm2d-48           [-1, 64, 26, 26]             128\n",
      "      BasicConv2d-49           [-1, 64, 26, 26]               0\n",
      "           Conv2d-50           [-1, 96, 26, 26]          55,296\n",
      "      BatchNorm2d-51           [-1, 96, 26, 26]             192\n",
      "      BasicConv2d-52           [-1, 96, 26, 26]               0\n",
      "           Conv2d-53           [-1, 96, 26, 26]          82,944\n",
      "      BatchNorm2d-54           [-1, 96, 26, 26]             192\n",
      "      BasicConv2d-55           [-1, 96, 26, 26]               0\n",
      "           Conv2d-56           [-1, 64, 26, 26]          16,384\n",
      "      BatchNorm2d-57           [-1, 64, 26, 26]             128\n",
      "      BasicConv2d-58           [-1, 64, 26, 26]               0\n",
      "       InceptionA-59          [-1, 288, 26, 26]               0\n",
      "           Conv2d-60           [-1, 64, 26, 26]          18,432\n",
      "      BatchNorm2d-61           [-1, 64, 26, 26]             128\n",
      "      BasicConv2d-62           [-1, 64, 26, 26]               0\n",
      "           Conv2d-63           [-1, 48, 26, 26]          13,824\n",
      "      BatchNorm2d-64           [-1, 48, 26, 26]              96\n",
      "      BasicConv2d-65           [-1, 48, 26, 26]               0\n",
      "           Conv2d-66           [-1, 64, 26, 26]          76,800\n",
      "      BatchNorm2d-67           [-1, 64, 26, 26]             128\n",
      "      BasicConv2d-68           [-1, 64, 26, 26]               0\n",
      "           Conv2d-69           [-1, 64, 26, 26]          18,432\n",
      "      BatchNorm2d-70           [-1, 64, 26, 26]             128\n",
      "      BasicConv2d-71           [-1, 64, 26, 26]               0\n",
      "           Conv2d-72           [-1, 96, 26, 26]          55,296\n",
      "      BatchNorm2d-73           [-1, 96, 26, 26]             192\n",
      "      BasicConv2d-74           [-1, 96, 26, 26]               0\n",
      "           Conv2d-75           [-1, 96, 26, 26]          82,944\n",
      "      BatchNorm2d-76           [-1, 96, 26, 26]             192\n",
      "      BasicConv2d-77           [-1, 96, 26, 26]               0\n",
      "           Conv2d-78           [-1, 64, 26, 26]          18,432\n",
      "      BatchNorm2d-79           [-1, 64, 26, 26]             128\n",
      "      BasicConv2d-80           [-1, 64, 26, 26]               0\n",
      "       InceptionA-81          [-1, 288, 26, 26]               0\n",
      "           Conv2d-82          [-1, 384, 12, 12]         995,328\n",
      "      BatchNorm2d-83          [-1, 384, 12, 12]             768\n",
      "      BasicConv2d-84          [-1, 384, 12, 12]               0\n",
      "           Conv2d-85           [-1, 64, 26, 26]          18,432\n",
      "      BatchNorm2d-86           [-1, 64, 26, 26]             128\n",
      "      BasicConv2d-87           [-1, 64, 26, 26]               0\n",
      "           Conv2d-88           [-1, 96, 26, 26]          55,296\n",
      "      BatchNorm2d-89           [-1, 96, 26, 26]             192\n",
      "      BasicConv2d-90           [-1, 96, 26, 26]               0\n",
      "           Conv2d-91           [-1, 96, 12, 12]          82,944\n",
      "      BatchNorm2d-92           [-1, 96, 12, 12]             192\n",
      "      BasicConv2d-93           [-1, 96, 12, 12]               0\n",
      "       InceptionB-94          [-1, 768, 12, 12]               0\n",
      "           Conv2d-95          [-1, 192, 12, 12]         147,456\n",
      "      BatchNorm2d-96          [-1, 192, 12, 12]             384\n",
      "      BasicConv2d-97          [-1, 192, 12, 12]               0\n",
      "           Conv2d-98          [-1, 128, 12, 12]          98,304\n",
      "      BatchNorm2d-99          [-1, 128, 12, 12]             256\n",
      "     BasicConv2d-100          [-1, 128, 12, 12]               0\n",
      "          Conv2d-101          [-1, 128, 12, 12]         114,688\n",
      "     BatchNorm2d-102          [-1, 128, 12, 12]             256\n",
      "     BasicConv2d-103          [-1, 128, 12, 12]               0\n",
      "          Conv2d-104          [-1, 192, 12, 12]         172,032\n",
      "     BatchNorm2d-105          [-1, 192, 12, 12]             384\n",
      "     BasicConv2d-106          [-1, 192, 12, 12]               0\n",
      "          Conv2d-107          [-1, 128, 12, 12]          98,304\n",
      "     BatchNorm2d-108          [-1, 128, 12, 12]             256\n",
      "     BasicConv2d-109          [-1, 128, 12, 12]               0\n",
      "          Conv2d-110          [-1, 128, 12, 12]         114,688\n",
      "     BatchNorm2d-111          [-1, 128, 12, 12]             256\n",
      "     BasicConv2d-112          [-1, 128, 12, 12]               0\n",
      "          Conv2d-113          [-1, 128, 12, 12]         114,688\n",
      "     BatchNorm2d-114          [-1, 128, 12, 12]             256\n",
      "     BasicConv2d-115          [-1, 128, 12, 12]               0\n",
      "          Conv2d-116          [-1, 128, 12, 12]         114,688\n",
      "     BatchNorm2d-117          [-1, 128, 12, 12]             256\n",
      "     BasicConv2d-118          [-1, 128, 12, 12]               0\n",
      "          Conv2d-119          [-1, 192, 12, 12]         172,032\n",
      "     BatchNorm2d-120          [-1, 192, 12, 12]             384\n",
      "     BasicConv2d-121          [-1, 192, 12, 12]               0\n",
      "          Conv2d-122          [-1, 192, 12, 12]         147,456\n",
      "     BatchNorm2d-123          [-1, 192, 12, 12]             384\n",
      "     BasicConv2d-124          [-1, 192, 12, 12]               0\n",
      "      InceptionC-125          [-1, 768, 12, 12]               0\n",
      "          Conv2d-126          [-1, 192, 12, 12]         147,456\n",
      "     BatchNorm2d-127          [-1, 192, 12, 12]             384\n",
      "     BasicConv2d-128          [-1, 192, 12, 12]               0\n",
      "          Conv2d-129          [-1, 160, 12, 12]         122,880\n",
      "     BatchNorm2d-130          [-1, 160, 12, 12]             320\n",
      "     BasicConv2d-131          [-1, 160, 12, 12]               0\n",
      "          Conv2d-132          [-1, 160, 12, 12]         179,200\n",
      "     BatchNorm2d-133          [-1, 160, 12, 12]             320\n",
      "     BasicConv2d-134          [-1, 160, 12, 12]               0\n",
      "          Conv2d-135          [-1, 192, 12, 12]         215,040\n",
      "     BatchNorm2d-136          [-1, 192, 12, 12]             384\n",
      "     BasicConv2d-137          [-1, 192, 12, 12]               0\n",
      "          Conv2d-138          [-1, 160, 12, 12]         122,880\n",
      "     BatchNorm2d-139          [-1, 160, 12, 12]             320\n",
      "     BasicConv2d-140          [-1, 160, 12, 12]               0\n",
      "          Conv2d-141          [-1, 160, 12, 12]         179,200\n",
      "     BatchNorm2d-142          [-1, 160, 12, 12]             320\n",
      "     BasicConv2d-143          [-1, 160, 12, 12]               0\n",
      "          Conv2d-144          [-1, 160, 12, 12]         179,200\n",
      "     BatchNorm2d-145          [-1, 160, 12, 12]             320\n",
      "     BasicConv2d-146          [-1, 160, 12, 12]               0\n",
      "          Conv2d-147          [-1, 160, 12, 12]         179,200\n",
      "     BatchNorm2d-148          [-1, 160, 12, 12]             320\n",
      "     BasicConv2d-149          [-1, 160, 12, 12]               0\n",
      "          Conv2d-150          [-1, 192, 12, 12]         215,040\n",
      "     BatchNorm2d-151          [-1, 192, 12, 12]             384\n",
      "     BasicConv2d-152          [-1, 192, 12, 12]               0\n",
      "          Conv2d-153          [-1, 192, 12, 12]         147,456\n",
      "     BatchNorm2d-154          [-1, 192, 12, 12]             384\n",
      "     BasicConv2d-155          [-1, 192, 12, 12]               0\n",
      "      InceptionC-156          [-1, 768, 12, 12]               0\n",
      "          Conv2d-157          [-1, 192, 12, 12]         147,456\n",
      "     BatchNorm2d-158          [-1, 192, 12, 12]             384\n",
      "     BasicConv2d-159          [-1, 192, 12, 12]               0\n",
      "          Conv2d-160          [-1, 160, 12, 12]         122,880\n",
      "     BatchNorm2d-161          [-1, 160, 12, 12]             320\n",
      "     BasicConv2d-162          [-1, 160, 12, 12]               0\n",
      "          Conv2d-163          [-1, 160, 12, 12]         179,200\n",
      "     BatchNorm2d-164          [-1, 160, 12, 12]             320\n",
      "     BasicConv2d-165          [-1, 160, 12, 12]               0\n",
      "          Conv2d-166          [-1, 192, 12, 12]         215,040\n",
      "     BatchNorm2d-167          [-1, 192, 12, 12]             384\n",
      "     BasicConv2d-168          [-1, 192, 12, 12]               0\n",
      "          Conv2d-169          [-1, 160, 12, 12]         122,880\n",
      "     BatchNorm2d-170          [-1, 160, 12, 12]             320\n",
      "     BasicConv2d-171          [-1, 160, 12, 12]               0\n",
      "          Conv2d-172          [-1, 160, 12, 12]         179,200\n",
      "     BatchNorm2d-173          [-1, 160, 12, 12]             320\n",
      "     BasicConv2d-174          [-1, 160, 12, 12]               0\n",
      "          Conv2d-175          [-1, 160, 12, 12]         179,200\n",
      "     BatchNorm2d-176          [-1, 160, 12, 12]             320\n",
      "     BasicConv2d-177          [-1, 160, 12, 12]               0\n",
      "          Conv2d-178          [-1, 160, 12, 12]         179,200\n",
      "     BatchNorm2d-179          [-1, 160, 12, 12]             320\n",
      "     BasicConv2d-180          [-1, 160, 12, 12]               0\n",
      "          Conv2d-181          [-1, 192, 12, 12]         215,040\n",
      "     BatchNorm2d-182          [-1, 192, 12, 12]             384\n",
      "     BasicConv2d-183          [-1, 192, 12, 12]               0\n",
      "          Conv2d-184          [-1, 192, 12, 12]         147,456\n",
      "     BatchNorm2d-185          [-1, 192, 12, 12]             384\n",
      "     BasicConv2d-186          [-1, 192, 12, 12]               0\n",
      "      InceptionC-187          [-1, 768, 12, 12]               0\n",
      "          Conv2d-188          [-1, 192, 12, 12]         147,456\n",
      "     BatchNorm2d-189          [-1, 192, 12, 12]             384\n",
      "     BasicConv2d-190          [-1, 192, 12, 12]               0\n",
      "          Conv2d-191          [-1, 192, 12, 12]         147,456\n",
      "     BatchNorm2d-192          [-1, 192, 12, 12]             384\n",
      "     BasicConv2d-193          [-1, 192, 12, 12]               0\n",
      "          Conv2d-194          [-1, 192, 12, 12]         258,048\n",
      "     BatchNorm2d-195          [-1, 192, 12, 12]             384\n",
      "     BasicConv2d-196          [-1, 192, 12, 12]               0\n",
      "          Conv2d-197          [-1, 192, 12, 12]         258,048\n",
      "     BatchNorm2d-198          [-1, 192, 12, 12]             384\n",
      "     BasicConv2d-199          [-1, 192, 12, 12]               0\n",
      "          Conv2d-200          [-1, 192, 12, 12]         147,456\n",
      "     BatchNorm2d-201          [-1, 192, 12, 12]             384\n",
      "     BasicConv2d-202          [-1, 192, 12, 12]               0\n",
      "          Conv2d-203          [-1, 192, 12, 12]         258,048\n",
      "     BatchNorm2d-204          [-1, 192, 12, 12]             384\n",
      "     BasicConv2d-205          [-1, 192, 12, 12]               0\n",
      "          Conv2d-206          [-1, 192, 12, 12]         258,048\n",
      "     BatchNorm2d-207          [-1, 192, 12, 12]             384\n",
      "     BasicConv2d-208          [-1, 192, 12, 12]               0\n",
      "          Conv2d-209          [-1, 192, 12, 12]         258,048\n",
      "     BatchNorm2d-210          [-1, 192, 12, 12]             384\n",
      "     BasicConv2d-211          [-1, 192, 12, 12]               0\n",
      "          Conv2d-212          [-1, 192, 12, 12]         258,048\n",
      "     BatchNorm2d-213          [-1, 192, 12, 12]             384\n",
      "     BasicConv2d-214          [-1, 192, 12, 12]               0\n",
      "          Conv2d-215          [-1, 192, 12, 12]         147,456\n",
      "     BatchNorm2d-216          [-1, 192, 12, 12]             384\n",
      "     BasicConv2d-217          [-1, 192, 12, 12]               0\n",
      "      InceptionC-218          [-1, 768, 12, 12]               0\n",
      "          Conv2d-219          [-1, 192, 12, 12]         147,456\n",
      "     BatchNorm2d-220          [-1, 192, 12, 12]             384\n",
      "     BasicConv2d-221          [-1, 192, 12, 12]               0\n",
      "          Conv2d-222            [-1, 320, 5, 5]         552,960\n",
      "     BatchNorm2d-223            [-1, 320, 5, 5]             640\n",
      "     BasicConv2d-224            [-1, 320, 5, 5]               0\n",
      "          Conv2d-225          [-1, 192, 12, 12]         147,456\n",
      "     BatchNorm2d-226          [-1, 192, 12, 12]             384\n",
      "     BasicConv2d-227          [-1, 192, 12, 12]               0\n",
      "          Conv2d-228          [-1, 192, 12, 12]         258,048\n",
      "     BatchNorm2d-229          [-1, 192, 12, 12]             384\n",
      "     BasicConv2d-230          [-1, 192, 12, 12]               0\n",
      "          Conv2d-231          [-1, 192, 12, 12]         258,048\n",
      "     BatchNorm2d-232          [-1, 192, 12, 12]             384\n",
      "     BasicConv2d-233          [-1, 192, 12, 12]               0\n",
      "          Conv2d-234            [-1, 192, 5, 5]         331,776\n",
      "     BatchNorm2d-235            [-1, 192, 5, 5]             384\n",
      "     BasicConv2d-236            [-1, 192, 5, 5]               0\n",
      "      InceptionD-237           [-1, 1280, 5, 5]               0\n",
      "          Conv2d-238            [-1, 320, 5, 5]         409,600\n",
      "     BatchNorm2d-239            [-1, 320, 5, 5]             640\n",
      "     BasicConv2d-240            [-1, 320, 5, 5]               0\n",
      "          Conv2d-241            [-1, 384, 5, 5]         491,520\n",
      "     BatchNorm2d-242            [-1, 384, 5, 5]             768\n",
      "     BasicConv2d-243            [-1, 384, 5, 5]               0\n",
      "          Conv2d-244            [-1, 384, 5, 5]         442,368\n",
      "     BatchNorm2d-245            [-1, 384, 5, 5]             768\n",
      "     BasicConv2d-246            [-1, 384, 5, 5]               0\n",
      "          Conv2d-247            [-1, 384, 5, 5]         442,368\n",
      "     BatchNorm2d-248            [-1, 384, 5, 5]             768\n",
      "     BasicConv2d-249            [-1, 384, 5, 5]               0\n",
      "          Conv2d-250            [-1, 448, 5, 5]         573,440\n",
      "     BatchNorm2d-251            [-1, 448, 5, 5]             896\n",
      "     BasicConv2d-252            [-1, 448, 5, 5]               0\n",
      "          Conv2d-253            [-1, 384, 5, 5]       1,548,288\n",
      "     BatchNorm2d-254            [-1, 384, 5, 5]             768\n",
      "     BasicConv2d-255            [-1, 384, 5, 5]               0\n",
      "          Conv2d-256            [-1, 384, 5, 5]         442,368\n",
      "     BatchNorm2d-257            [-1, 384, 5, 5]             768\n",
      "     BasicConv2d-258            [-1, 384, 5, 5]               0\n",
      "          Conv2d-259            [-1, 384, 5, 5]         442,368\n",
      "     BatchNorm2d-260            [-1, 384, 5, 5]             768\n",
      "     BasicConv2d-261            [-1, 384, 5, 5]               0\n",
      "          Conv2d-262            [-1, 192, 5, 5]         245,760\n",
      "     BatchNorm2d-263            [-1, 192, 5, 5]             384\n",
      "     BasicConv2d-264            [-1, 192, 5, 5]               0\n",
      "      InceptionE-265           [-1, 2048, 5, 5]               0\n",
      "          Conv2d-266            [-1, 320, 5, 5]         655,360\n",
      "     BatchNorm2d-267            [-1, 320, 5, 5]             640\n",
      "     BasicConv2d-268            [-1, 320, 5, 5]               0\n",
      "          Conv2d-269            [-1, 384, 5, 5]         786,432\n",
      "     BatchNorm2d-270            [-1, 384, 5, 5]             768\n",
      "     BasicConv2d-271            [-1, 384, 5, 5]               0\n",
      "          Conv2d-272            [-1, 384, 5, 5]         442,368\n",
      "     BatchNorm2d-273            [-1, 384, 5, 5]             768\n",
      "     BasicConv2d-274            [-1, 384, 5, 5]               0\n",
      "          Conv2d-275            [-1, 384, 5, 5]         442,368\n",
      "     BatchNorm2d-276            [-1, 384, 5, 5]             768\n",
      "     BasicConv2d-277            [-1, 384, 5, 5]               0\n",
      "          Conv2d-278            [-1, 448, 5, 5]         917,504\n",
      "     BatchNorm2d-279            [-1, 448, 5, 5]             896\n",
      "     BasicConv2d-280            [-1, 448, 5, 5]               0\n",
      "          Conv2d-281            [-1, 384, 5, 5]       1,548,288\n",
      "     BatchNorm2d-282            [-1, 384, 5, 5]             768\n",
      "     BasicConv2d-283            [-1, 384, 5, 5]               0\n",
      "          Conv2d-284            [-1, 384, 5, 5]         442,368\n",
      "     BatchNorm2d-285            [-1, 384, 5, 5]             768\n",
      "     BasicConv2d-286            [-1, 384, 5, 5]               0\n",
      "          Conv2d-287            [-1, 384, 5, 5]         442,368\n",
      "     BatchNorm2d-288            [-1, 384, 5, 5]             768\n",
      "     BasicConv2d-289            [-1, 384, 5, 5]               0\n",
      "          Conv2d-290            [-1, 192, 5, 5]         393,216\n",
      "     BatchNorm2d-291            [-1, 192, 5, 5]             384\n",
      "     BasicConv2d-292            [-1, 192, 5, 5]               0\n",
      "      InceptionE-293           [-1, 2048, 5, 5]               0\n",
      "          Linear-294                 [-1, 1000]       2,049,000\n",
      "================================================================\n",
      "Total params: 23,834,568\n",
      "Trainable params: 23,834,568\n",
      "Non-trainable params: 0\n",
      "----------------------------------------------------------------\n",
      "Input size (MB): 0.60\n",
      "Forward/backward pass size (MB): 120.43\n",
      "Params size (MB): 90.92\n",
      "Estimated Total Size (MB): 211.96\n",
      "----------------------------------------------------------------\n"
     ]
    }
   ],
   "source": [
    "from torchvision.models import inception_v3\n",
    "inception_model = inception_v3(pretrained=False)\n",
    "inception_model.load_state_dict(torch.load(\"inception_v3_google-1a9a5a14.pth\"))\n",
    "inception_model.to(device)\n",
    "inception_model = inception_model.eval() # Evaluation mode\n",
    "#print(inception_model)\n",
    "#print(inception_model.fc)\n",
    "#summary(inception_model , (3 , 229 , 229))"
   ]
  },
  {
   "cell_type": "markdown",
   "metadata": {
    "colab_type": "text",
    "id": "9iYUtcRU-woT"
   },
   "source": [
    "## Fréchet Inception Distance\n",
    "\n",
    "Fréchet Inception Distance (FID) was proposed as an improvement over Inception Score and still uses the Inception-v3 network as part of its calculation. However, instead of using the classification labels of the Inception-v3 network, it uses the output from an earlier layer—the layer right before the labels. This is often called the feature layer. Research has shown that deep convolutional neural networks trained on difficult tasks, like classifying many classes, build increasingly sophisticated representations of features going deeper into the network. For example, the first few layers may learn to detect different kinds of edges and curves, while the later layers may have neurons that fire in response to human faces.\n",
    "\n",
    "To get the feature layer of a convolutional neural network, you can replace the final fully connected layer with an identity layer that simply returns whatever input it received, unchanged. This essentially removes the final classification layer and leaves you with the intermediate outputs from the layer before.\n",
    "\n",
    "<details>\n",
    "\n",
    "<summary>\n",
    "<font size=\"3\" color=\"green\">\n",
    "<b>Optional hint for <code><font size=\"4\">inception_model.fc</font></code></b>\n",
    "</font>\n",
    "</summary>\n",
    "\n",
    "1.    You may find [torch.nn.Identity()](https://pytorch.org/docs/master/generated/torch.nn.Identity.html) helpful.\n",
    "\n",
    "</details>"
   ]
  },
  {
   "cell_type": "code",
   "execution_count": 5,
   "metadata": {
    "colab": {},
    "colab_type": "code",
    "id": "y2KBoaJEXH29"
   },
   "outputs": [],
   "source": [
    "# UNQ_C1 (UNIQUE CELL IDENTIFIER, DO NOT EDIT)\n",
    "# GRADED CELL: inception_model.fc\n",
    "\n",
    "# You want to replace the final fully-connected (fc) layer \n",
    "# with an identity function layer to cut off the classification\n",
    "# layer and get a feature extractor\n",
    "#### START CODE HERE ####\n",
    "inception_model.fc = torch.nn.Identity()\n",
    "#### END CODE HERE ####"
   ]
  },
  {
   "cell_type": "code",
   "execution_count": 6,
   "metadata": {
    "colab": {},
    "colab_type": "code",
    "id": "_txoiugobfck"
   },
   "outputs": [
    {
     "name": "stdout",
     "output_type": "stream",
     "text": [
      "Success!\n"
     ]
    }
   ],
   "source": [
    "# UNIT TEST\n",
    "test_identity_noise = torch.randn(100, 100)\n",
    "assert torch.equal(test_identity_noise, inception_model.fc(test_identity_noise))\n",
    "print(\"Success!\")"
   ]
  },
  {
   "cell_type": "markdown",
   "metadata": {
    "colab_type": "text",
    "id": "BKzLLQI_XLdw"
   },
   "source": [
    "### Fréchet Distance \n",
    "Fréchet distance uses the values from the feature layer for two sets of images, say reals and fakes, and compares different statistical properties between them to see how different they are. Specifically, Fréchet distance finds the shortest distance needed to walk along two lines, or two curves, simultaneously. The most intuitive explanation of Fréchet distance is as the \"minimum leash distance\" between two points. Imagine yourself and your dog, both moving along two curves. If you walked on one curve and your dog, attached to a leash, walked on the other at the same pace, what is the least amount of leash that you can give your dog so that you never need to give them more slack during your walk? Using this, the Fréchet distance measures the similarity between these two curves.\n",
    "\n",
    "The basic idea is similar for calculating the Fréchet distance between two probability distributions. You'll start by seeing what this looks like in one-dimensional, also called univariate, space."
   ]
  },
  {
   "cell_type": "markdown",
   "metadata": {
    "colab_type": "text",
    "id": "fb5z23wVFE3m"
   },
   "source": [
    "\n",
    "#### Univariate Fréchet Distance\n",
    "You can calculate the distance between two normal distributions $X$ and $Y$ with means $\\mu_X$ and $\\mu_Y$ and standard deviations $\\sigma_X$ and $\\sigma_Y$, as:\n",
    "\n",
    "$$d(X,Y) = (\\mu_X-\\mu_Y)^2 + (\\sigma_X-\\sigma_Y)^2 $$\n",
    "\n",
    "Pretty simple, right? Now you can see how it can be converted to be used in multi-dimensional, which is also called multivariate, space."
   ]
  },
  {
   "cell_type": "markdown",
   "metadata": {
    "colab_type": "text",
    "id": "f1syunux1Jon"
   },
   "source": [
    "#### Multivariate Fréchet Distance\n",
    "**Covariance**\n",
    "\n",
    "To find the Fréchet distance between two multivariate normal distributions, you first need to find the covariance instead of the standard deviation. The covariance, which is the multivariate version of variance (the square of standard deviation), is represented using a square matrix where the side length is equal to the number of dimensions. Since the feature vectors you will be using have 2048 values/weights, the covariance matrix will be 2048 x 2048. But for the sake of an example, this is a covariance matrix in a two-dimensional space:\n",
    "\n",
    "$\\Sigma = \\left(\\begin{array}{cc} \n",
    "1 & 0\\\\ \n",
    "0 & 1\n",
    "\\end{array}\\right)\n",
    "$\n",
    "\n",
    "The value at location $(i, j)$ corresponds to the covariance of vector $i$ with vector $j$. Since the covariance of $i$ with $j$ and $j$ with $i$ are equivalent, the matrix will always be symmetric with respect to the diagonal. The diagonal is the covariance of that element with itself. In this example, there are zeros everywhere except the diagonal. That means that the two dimensions are independent of one another, they are completely unrelated.\n",
    "\n",
    "The following code cell will visualize this matrix."
   ]
  },
  {
   "cell_type": "code",
   "execution_count": 7,
   "metadata": {
    "colab": {},
    "colab_type": "code",
    "id": "qDLxAxYo-v0y"
   },
   "outputs": [
    {
     "data": {
      "image/png": "[encoded data removed]",
      "text/plain": [
       "<Figure size 432x432 with 3 Axes>"
      ]
     },
     "metadata": {
      "needs_background": "light"
     },
     "output_type": "display_data"
    }
   ],
   "source": [
    "#import os\n",
    "#os.environ['KMP_DUPLICATE_LIB_OK']='True'\n",
    "\n",
    "from torch.distributions import MultivariateNormal\n",
    "import seaborn as sns # This is for visualization\n",
    "mean = torch.Tensor([0, 0]) # Center the mean at the origin\n",
    "covariance = torch.Tensor( # This matrix shows independence - there are only non-zero values on the diagonal\n",
    "    [[1, 0],\n",
    "     [0, 1]]\n",
    ")\n",
    "independent_dist = MultivariateNormal(mean, covariance)\n",
    "samples = independent_dist.sample((10000,))\n",
    "res = sns.jointplot(samples[:, 0], samples[:, 1], kind=\"kde\")\n",
    "plt.show()"
   ]
  },
  {
   "cell_type": "markdown",
   "metadata": {
    "colab_type": "text",
    "id": "HkEtuo_k2ED5"
   },
   "source": [
    "Now, here's an example of a multivariate normal distribution that has covariance:\n",
    "\n",
    "$\\Sigma = \\left(\\begin{array}{cc} \n",
    "2 & -1\\\\ \n",
    "-1 & 2\n",
    "\\end{array}\\right)\n",
    "$\n",
    "\n",
    "And see how it looks:\n"
   ]
  },
  {
   "cell_type": "code",
   "execution_count": 8,
   "metadata": {
    "colab": {},
    "colab_type": "code",
    "id": "SQvjyAmw2SGl"
   },
   "outputs": [
    {
     "data": {
      "image/png": "[encoded data removed]",
      "text/plain": [
       "<Figure size 432x432 with 3 Axes>"
      ]
     },
     "metadata": {
      "needs_background": "light"
     },
     "output_type": "display_data"
    }
   ],
   "source": [
    "mean = torch.Tensor([0, 0])\n",
    "covariance = torch.Tensor(\n",
    "    [[2, -1],\n",
    "     [-1, 2]]\n",
    ")\n",
    "covariant_dist = MultivariateNormal(mean, covariance)\n",
    "samples = covariant_dist.sample((10000,))\n",
    "res = sns.jointplot(samples[:, 0], samples[:, 1], kind=\"kde\")\n",
    "plt.show()"
   ]
  },
  {
   "cell_type": "markdown",
   "metadata": {
    "colab_type": "text",
    "id": "uf3kci9d2ROC"
   },
   "source": [
    "**Formula**\n",
    "\n",
    "Based on the paper, \"[The Fréchet distance between multivariate normal distributions](https://core.ac.uk/reader/82269844)\" by Dowson and Landau (1982), the Fréchet distance between two multivariate normal distributions $X$ and $Y$ is:\n",
    "\n",
    "$d(X, Y) = \\Vert\\mu_X-\\mu_Y\\Vert^2 + \\mathrm{Tr}\\left(\\Sigma_X+\\Sigma_Y - 2 \\sqrt{\\Sigma_X \\Sigma_Y}\\right)$\n",
    "\n",
    "Similar to the formula for univariate Fréchet distance, you can calculate the distance between the means and the distance between the standard deviations. However, calculating the distance between the standard deviations changes slightly here, as it includes the matrix product and matrix square root. $\\mathrm{Tr}$ refers to the trace, the sum of the diagonal elements of a matrix.\n",
    "\n",
    "Now you can implement this!\n",
    "\n",
    "<details>\n",
    "\n",
    "<summary>\n",
    "<font size=\"3\" color=\"green\">\n",
    "<b>Optional hints for <code><font size=\"4\">frechet_distance</font></code></b>\n",
    "</font>\n",
    "</summary>\n",
    "\n",
    "1.   You want to implement the above equation in code.\n",
    "2.   You might find the functions `torch.norm` and `torch.trace` helpful here.\n",
    "3.   A matrix_sqrt function is defined for you above -- you need to use it instead of `torch.sqrt()` which only gets the elementwise square root instead of the matrix square root.\n",
    "4.   You can also use the `@` symbol for matrix multiplication.\n",
    "</details>"
   ]
  },
  {
   "cell_type": "code",
   "execution_count": 9,
   "metadata": {
    "colab": {},
    "colab_type": "code",
    "id": "iOlCmNPiuuhK"
   },
   "outputs": [],
   "source": [
    "import scipy\n",
    "# This is the matrix square root function you will be using\n",
    "def matrix_sqrt(x):\n",
    "    '''\n",
    "    Function that takes in a matrix and returns the square root of that matrix.\n",
    "    For an input matrix A, the output matrix B would be such that B @ B is the matrix A.\n",
    "    Parameters:\n",
    "        x: a matrix\n",
    "    '''\n",
    "    y = x.cpu().detach().numpy()\n",
    "    y = scipy.linalg.sqrtm(y)\n",
    "    return torch.Tensor(y.real, device=x.device)"
   ]
  },
  {
   "cell_type": "code",
   "execution_count": 10,
   "metadata": {
    "colab": {},
    "colab_type": "code",
    "id": "_hLWk57s91it"
   },
   "outputs": [],
   "source": [
    "# UNQ_C2 (UNIQUE CELL IDENTIFIER, DO NOT EDIT)\n",
    "# GRADED FUNCTION: frechet_distance\n",
    "def frechet_distance(mu_x, mu_y, sigma_x, sigma_y):\n",
    "    '''\n",
    "    Function for returning the Fréchet distance between multivariate Gaussians,\n",
    "    parameterized by their means and covariance matrices.\n",
    "    Parameters:\n",
    "        mu_x: the mean of the first Gaussian, (n_features)\n",
    "        mu_y: the mean of the second Gaussian, (n_features) \n",
    "        sigma_x: the covariance matrix of the first Gaussian, (n_features, n_features)\n",
    "        sigma_y: the covariance matrix of the second Gaussian, (n_features, n_features)\n",
    "    '''\n",
    "    #### START CODE HERE ####\n",
    "    #print(torch.sum(torch.norm(mu_x - mu_y) * torch.norm(mu_x - mu_y)) + torch.trace(sigma_x + sigma_y - (2 * matrix_sqrt(sigma_x @ sigma_y))))\n",
    "    return torch.sum(torch.norm(mu_x - mu_y) * torch.norm(mu_x - mu_y)) + torch.trace(sigma_x + sigma_y - (2 * matrix_sqrt(sigma_x @ sigma_y)))\n",
    "    #### END CODE HERE ####"
   ]
  },
  {
   "cell_type": "code",
   "execution_count": 11,
   "metadata": {
    "colab": {},
    "colab_type": "code",
    "id": "Pphv97XEgPDh"
   },
   "outputs": [
    {
     "name": "stdout",
     "output_type": "stream",
     "text": [
      "Success!\n"
     ]
    }
   ],
   "source": [
    "# UNIT TEST\n",
    "\n",
    "mean1 = torch.Tensor([0, 0]) # Center the mean at the origin\n",
    "covariance1 = torch.Tensor( # This matrix shows independence - there are only non-zero values on the diagonal\n",
    "    [[1, 0],\n",
    "     [0, 1]]\n",
    ")\n",
    "dist1 = MultivariateNormal(mean1, covariance1)\n",
    "\n",
    "mean2 = torch.Tensor([0, 0]) # Center the mean at the origin\n",
    "covariance2 = torch.Tensor( # This matrix shows dependence \n",
    "    [[2, -1],\n",
    "     [-1, 2]]\n",
    ")\n",
    "dist2 = MultivariateNormal(mean2, covariance2)\n",
    "\n",
    "assert torch.isclose(\n",
    "    frechet_distance(\n",
    "        dist1.mean, dist2.mean,\n",
    "        dist1.covariance_matrix, dist2.covariance_matrix\n",
    "    ),\n",
    "    4 - 2 * torch.sqrt(torch.tensor(3.))\n",
    ")\n",
    "\n",
    "assert (frechet_distance(\n",
    "        dist1.mean, dist1.mean,\n",
    "        dist1.covariance_matrix, dist1.covariance_matrix\n",
    "    ).item() == 0)\n",
    "\n",
    "print(\"Success!\")"
   ]
  },
  {
   "cell_type": "markdown",
   "metadata": {
    "colab_type": "text",
    "id": "r9dMgbxGCTno"
   },
   "source": [
    "## Putting it all together!\n",
    "Now, you can apply FID to your generator from earlier.\n",
    "\n",
    "You will start by defining a bit of helper code to preprocess the image for the Inception-v3 network:\n",
    "<!-- This isn't exactly what FID is meant for, since inception scores expect a natural image, but it should give a rough idea of the diversity and quality of your images.  [TODO: move to bottom since image net is trained on nature (cat, dog) images, fidelity (quality)] -->"
   ]
  },
  {
   "cell_type": "code",
   "execution_count": 12,
   "metadata": {
    "colab": {},
    "colab_type": "code",
    "id": "s2ZMTdzMCZtn"
   },
   "outputs": [],
   "source": [
    "def preprocess(img):\n",
    "    img = torch.nn.functional.interpolate(img, size=(299, 299), mode='bilinear', align_corners=False)\n",
    "    return img"
   ]
  },
  {
   "cell_type": "markdown",
   "metadata": {
    "colab_type": "text",
    "id": "hzXQTFv_UNjm"
   },
   "source": [
    "Then, you'll define a function to calculate the covariance of the features that returns a covariance matrix given a list of values:"
   ]
  },
  {
   "cell_type": "code",
   "execution_count": 13,
   "metadata": {
    "colab": {},
    "colab_type": "code",
    "id": "4BEbwlGLiPWJ"
   },
   "outputs": [],
   "source": [
    "import numpy as np\n",
    "def get_covariance(features):\n",
    "    return torch.Tensor(np.cov(features.detach().numpy(), rowvar=False))"
   ]
  },
  {
   "cell_type": "markdown",
   "metadata": {
    "colab_type": "text",
    "id": "Sw5obaXjVv_v"
   },
   "source": [
    "Finally, you can use the pre-trained Inception-v3 model to compute features of the real and fake images. With these features, you can then get the covariance and means of these features across many samples. \n",
    "\n",
    "First, you get the features of the real and fake images using the Inception-v3 model:"
   ]
  },
  {
   "cell_type": "code",
   "execution_count": 14,
   "metadata": {
    "colab": {},
    "colab_type": "code",
    "id": "qQwHSAhrf0hX"
   },
   "outputs": [
    {
     "data": {
      "application/vnd.jupyter.widget-view+json": {
       "model_id": "01860bf9e0d649e6b75e43c75f145951",
       "version_major": 2,
       "version_minor": 0
      },
      "text/plain": [
       "HBox(children=(FloatProgress(value=0.0, max=128.0), HTML(value='')))"
      ]
     },
     "metadata": {},
     "output_type": "display_data"
    }
   ],
   "source": [
    "fake_features_list = []\n",
    "real_features_list = []\n",
    "\n",
    "gen.eval()\n",
    "n_samples = 512 # The total number of samples\n",
    "batch_size = 4 # Samples per iteration\n",
    "\n",
    "dataloader = DataLoader(\n",
    "    dataset,\n",
    "    batch_size=batch_size,\n",
    "    shuffle=True)\n",
    "\n",
    "cur_samples = 0\n",
    "with torch.no_grad(): # You don't need to calculate gradients here, so you do this to save memory\n",
    "    try:\n",
    "        for real_example, _ in tqdm(dataloader, total=n_samples // batch_size): # Go by batch\n",
    "            real_samples = real_example\n",
    "            real_features = inception_model(real_samples.to(device)).detach().to('cpu') # Move features to CPU\n",
    "            real_features_list.append(real_features)\n",
    "\n",
    "            fake_samples = get_noise(len(real_example), z_dim).to(device)\n",
    "            fake_samples = preprocess(gen(fake_samples))\n",
    "            fake_features = inception_model(fake_samples.to(device)).detach().to('cpu')\n",
    "            fake_features_list.append(fake_features)\n",
    "            cur_samples += len(real_samples)\n",
    "            if cur_samples >= n_samples:\n",
    "                break\n",
    "    except:\n",
    "        print(\"Error in loop\")"
   ]
  },
  {
   "cell_type": "markdown",
   "metadata": {
    "colab_type": "text",
    "id": "LUrJ_ZEZXkvu"
   },
   "source": [
    "Then, you can combine all of the values that you collected for the reals and fakes into large tensors:"
   ]
  },
  {
   "cell_type": "code",
   "execution_count": 15,
   "metadata": {
    "colab": {},
    "colab_type": "code",
    "id": "UmiOuDulqDTC"
   },
   "outputs": [],
   "source": [
    "# UNQ_C3 (UNIQUE CELL IDENTIFIER, DO NOT EDIT)\n",
    "# UNIT TEST COMMENT: Needed as is for autograding\n",
    "fake_features_all = torch.cat(fake_features_list)\n",
    "real_features_all = torch.cat(real_features_list)"
   ]
  },
  {
   "cell_type": "markdown",
   "metadata": {
    "colab_type": "text",
    "id": "41XEEZRoXxN1"
   },
   "source": [
    "And calculate the covariance and means of these real and fake features:"
   ]
  },
  {
   "cell_type": "code",
   "execution_count": 16,
   "metadata": {
    "colab": {},
    "colab_type": "code",
    "id": "quNhtmwaNhpT"
   },
   "outputs": [
    {
     "name": "stdout",
     "output_type": "stream",
     "text": [
      "torch.Size([512, 2048])\n",
      "torch.Size([2048])\n"
     ]
    }
   ],
   "source": [
    "# UNQ_C4 (UNIQUE CELL IDENTIFIER, DO NOT EDIT)\n",
    "# GRADED CELL\n",
    "\n",
    "# Calculate the covariance matrix for the fake and real features\n",
    "# and also calculate the means of the feature over the batch (for each feature dimension mean)\n",
    "#### START CODE HERE ####\n",
    "print(fake_features_all.shape)\n",
    "mu_fake = torch.mean(fake_features_all , 0)\n",
    "mu_real = torch.mean(real_features_all , 0)\n",
    "sigma_fake = get_covariance(fake_features_all)\n",
    "sigma_real = get_covariance(real_features_all)\n",
    "print(mu_fake.shape)\n",
    "#### END CODE HERE ####"
   ]
  },
  {
   "cell_type": "code",
   "execution_count": 17,
   "metadata": {
    "colab": {},
    "colab_type": "code",
    "id": "zC1spPHPxkOQ"
   },
   "outputs": [
    {
     "name": "stdout",
     "output_type": "stream",
     "text": [
      "Success!\n"
     ]
    }
   ],
   "source": [
    "assert tuple(sigma_fake.shape) == (fake_features_all.shape[1], fake_features_all.shape[1])\n",
    "assert torch.abs(sigma_fake[0, 0] - 2.5e-2) < 1e-2 and torch.abs(sigma_fake[-1, -1] - 5e-2) < 1e-2\n",
    "assert tuple(sigma_real.shape) == (real_features_all.shape[1], real_features_all.shape[1])\n",
    "assert torch.abs(sigma_real[0, 0] - 3.5768e-2) < 1e-4 and torch.abs(sigma_real[0, 1] + 5.3236e-4) < 1e-4\n",
    "assert tuple(mu_fake.shape) == (fake_features_all.shape[1],)\n",
    "assert tuple(mu_real.shape) == (real_features_all.shape[1],)\n",
    "assert torch.abs(mu_real[0] - 0.3099) < 0.01 and torch.abs(mu_real[1] - 0.2721) < 0.01\n",
    "assert torch.abs(mu_fake[0] - 0.37) < 0.05 and torch.abs(mu_real[1] - 0.27) < 0.05\n",
    "print(\"Success!\")"
   ]
  },
  {
   "cell_type": "markdown",
   "metadata": {
    "colab_type": "text",
    "id": "gyHx-bBqo5MU"
   },
   "source": [
    "At this point, you can also visualize what the pairwise multivariate distributions of the inception features look like!"
   ]
  },
  {
   "cell_type": "code",
   "execution_count": 18,
   "metadata": {
    "colab": {},
    "colab_type": "code",
    "id": "fBOp8wfNkce1"
   },
   "outputs": [
    {
     "data": {
      "text/plain": [
       "<seaborn.axisgrid.PairGrid at 0x7fb5813b7898>"
      ]
     },
     "execution_count": 18,
     "metadata": {},
     "output_type": "execute_result"
    },
    {
     "data": {
      "image/png": "[encoded data removed]",
      "text/plain": [
       "<Figure size 593.25x540 with 12 Axes>"
      ]
     },
     "metadata": {
      "needs_background": "light"
     },
     "output_type": "display_data"
    }
   ],
   "source": [
    "indices = [2, 4, 5]\n",
    "fake_dist = MultivariateNormal(mu_fake[indices], sigma_fake[indices][:, indices])\n",
    "fake_samples = fake_dist.sample((5000,))\n",
    "real_dist = MultivariateNormal(mu_real[indices], sigma_real[indices][:, indices])\n",
    "real_samples = real_dist.sample((5000,))\n",
    "\n",
    "import pandas as pd\n",
    "df_fake = pd.DataFrame(fake_samples.numpy(), columns=indices)\n",
    "df_real = pd.DataFrame(real_samples.numpy(), columns=indices)\n",
    "df_fake[\"is_real\"] = \"no\"\n",
    "df_real[\"is_real\"] = \"yes\"\n",
    "df = pd.concat([df_fake, df_real])\n",
    "sns.pairplot(df, plot_kws={'alpha': 0.1}, hue='is_real')"
   ]
  },
  {
   "cell_type": "markdown",
   "metadata": {
    "colab_type": "text",
    "id": "Ja7DQ9SSX0u2"
   },
   "source": [
    "Lastly, you can use your earlier `frechet_distance` function to calculate the FID and evaluate your GAN. You can see how similar/different the features of the generated images are to the features of the real images. The next cell might take five minutes or so to run in Coursera."
   ]
  },
  {
   "cell_type": "code",
   "execution_count": 19,
   "metadata": {
    "colab": {},
    "colab_type": "code",
    "id": "qS8kklILkmyg"
   },
   "outputs": [
    {
     "name": "stdout",
     "output_type": "stream",
     "text": [
      "141.3974609375\n"
     ]
    }
   ],
   "source": [
    "with torch.no_grad():\n",
    "    print(frechet_distance(mu_real, mu_fake, sigma_real, sigma_fake).item())"
   ]
  },
  {
   "cell_type": "markdown",
   "metadata": {
    "colab_type": "text",
    "id": "Rnt8jEP6Fh70"
   },
   "source": [
    "You'll notice this model gets a pretty high FID, likely over 30. Since lower is better, and the best models on CelebA get scores in the single-digits, there's clearly a long way to go with this model. You can use FID to compare different models, as well as different stages of training of the same model. "
   ]
  }
 ],
 "metadata": {
  "colab": {
   "collapsed_sections": [],
   "machine_shape": "hm",
   "name": "C2W1_3: FID (Student).ipynb",
   "provenance": [
    {
     "file_id": "1PHyStVU9tpRZ3cdJmfVfrSJ8ftCoaRVB",
     "timestamp": 1596210108151
    },
    {
     "file_id": "1dfp-3gGaFasdR4XB4cNkxb7vm4VHr2tR",
     "timestamp": 1595718206414
    },
    {
     "file_id": "1Tj1PwWp73iGwYsQrKq8CgMe8xfXeyn8s",
     "timestamp": 1592457596256
    }
   ]
  },
  "coursera": {
   "schema_names": [
    "GANSC2-1A"
   ]
  },
  "kernelspec": {
   "display_name": "Python 3",
   "language": "python",
   "name": "python3"
  },
  "language_info": {
   "codemirror_mode": {
    "name": "ipython",
    "version": 3
   },
   "file_extension": ".py",
   "mimetype": "text/x-python",
   "name": "python",
   "nbconvert_exporter": "python",
   "pygments_lexer": "ipython3",
   "version": "3.6.9"
  }
 },
 "nbformat": 4,
 "nbformat_minor": 1
}
